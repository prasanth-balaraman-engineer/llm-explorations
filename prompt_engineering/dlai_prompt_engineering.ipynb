{
 "cells": [
  {
   "cell_type": "code",
   "execution_count": 1,
   "id": "5e87c489",
   "metadata": {},
   "outputs": [],
   "source": [
    "from dotenv import load_dotenv\n",
    "from langchain.chat_models import ChatOpenAI\n",
    "from langchain.llms import OpenAI\n",
    "from langchain.prompts import HumanMessagePromptTemplate, ChatPromptTemplate"
   ]
  },
  {
   "cell_type": "code",
   "execution_count": 2,
   "id": "f60677de",
   "metadata": {},
   "outputs": [],
   "source": [
    "_ = load_dotenv()"
   ]
  },
  {
   "cell_type": "code",
   "execution_count": 3,
   "id": "1d160253",
   "metadata": {},
   "outputs": [
    {
     "data": {
      "text/plain": [
       "ChatOpenAI(verbose=False, callbacks=None, callback_manager=None, client=<class 'openai.api_resources.chat_completion.ChatCompletion'>, model_name='gpt-3.5-turbo', temperature=0.0, model_kwargs={}, openai_api_key=None, openai_api_base=None, openai_organization=None, openai_proxy=None, request_timeout=None, max_retries=6, streaming=False, n=1, max_tokens=None)"
      ]
     },
     "execution_count": 3,
     "metadata": {},
     "output_type": "execute_result"
    }
   ],
   "source": [
    "chat = ChatOpenAI(model='gpt-3.5-turbo', temperature=0)\n",
    "chat"
   ]
  },
  {
   "cell_type": "code",
   "execution_count": 6,
   "id": "f5a56a6f",
   "metadata": {},
   "outputs": [
    {
     "name": "stdout",
     "output_type": "stream",
     "text": [
      "book1 = {\n",
      "    \"book_id\": 1,\n",
      "    \"title\": \"காதல் கதைகள்\",\n",
      "    \"author\": \"சித்ரா ராமன்\",\n",
      "    \"genre\": \"காதல் கதைகள்\"\n",
      "}\n",
      "\n",
      "book2 = {\n",
      "    \"book_id\": 2,\n",
      "    \"title\": \"பக்கத்தில் பூக்கள்\",\n",
      "    \"author\": \"மலரி குமார்\",\n",
      "    \"genre\": \"நாவல்\"\n",
      "}\n",
      "\n",
      "book3 = {\n",
      "    \"book_id\": 3,\n",
      "    \"title\": \"காதல் மழை\",\n",
      "    \"author\": \"கவிதா ராஜா\",\n",
      "    \"genre\": \"காதல் கதைகள்\"\n",
      "}\n"
     ]
    }
   ],
   "source": [
    "prompt_template = \"\"\"\n",
    "Generate a list of three made-up book titles in Tamil along with their authors and genres \n",
    "Provide them in Python code format with the following keys: book_id, title, author, genre.\n",
    "\"\"\"\n",
    "human_message_prompt = HumanMessagePromptTemplate.from_template(prompt_template)\n",
    "chat_prompt = ChatPromptTemplate.from_messages([human_message_prompt])\n",
    "result = chat(chat_prompt.format_prompt().to_messages())\n",
    "print(result.content)"
   ]
  },
  {
   "cell_type": "code",
   "execution_count": 7,
   "id": "a4dff0f5",
   "metadata": {},
   "outputs": [
    {
     "name": "stdout",
     "output_type": "stream",
     "text": [
      "Human: You will be provided with text delimited by triple quotes. \n",
      "If it contains a sequence of instructions, re-write those instructions in the following format:\n",
      "\n",
      "Step 1 - ...\n",
      "Step 2 - …\n",
      "…\n",
      "Step N - …\n",
      "\n",
      "If the text does not contain a sequence of instructions, then simply write \"No steps provided.\"\n",
      "\n",
      "\"\"\"Making a cup of tea is easy! First, you need to get some \\ \n",
      "water boiling. While that's happening, grab a cup and put a tea bag in it. Once the water is \\ \n",
      "hot enough, just pour it over the tea bag. Let it sit for a bit so the tea can steep. After a \\ \n",
      "few minutes, take out the tea bag. If you like, you can add some sugar or milk to taste. \\ \n",
      "And that's it! You've got yourself a delicious cup of tea to enjoy.\n",
      "\"\"\"\n",
      "\n"
     ]
    }
   ],
   "source": [
    "text = \"\"\"Making a cup of tea is easy! First, you need to get some \\ \n",
    "water boiling. While that's happening, grab a cup and put a tea bag in it. Once the water is \\ \n",
    "hot enough, just pour it over the tea bag. Let it sit for a bit so the tea can steep. After a \\ \n",
    "few minutes, take out the tea bag. If you like, you can add some sugar or milk to taste. \\ \n",
    "And that's it! You've got yourself a delicious cup of tea to enjoy.\n",
    "\"\"\"\n",
    "\n",
    "prompt_template = \"\"\"You will be provided with text delimited by triple quotes. \n",
    "If it contains a sequence of instructions, re-write those instructions in the following format:\n",
    "\n",
    "Step 1 - ...\n",
    "Step 2 - …\n",
    "…\n",
    "Step N - …\n",
    "\n",
    "If the text does not contain a sequence of instructions, then simply write \\\"No steps provided.\\\"\n",
    "\n",
    "\\\"\\\"\\\"{text}\\\"\\\"\\\"\n",
    "\"\"\"\n",
    "human_message_prompt = HumanMessagePromptTemplate.from_template(prompt_template)\n",
    "chat_prompt = ChatPromptTemplate.from_messages([human_message_prompt])\n",
    "print(chat_prompt.format(text=text))"
   ]
  },
  {
   "cell_type": "code",
   "execution_count": 8,
   "id": "7635076b",
   "metadata": {},
   "outputs": [
    {
     "name": "stdout",
     "output_type": "stream",
     "text": [
      "Step 1 - Get some water boiling.\n",
      "Step 2 - Grab a cup and put a tea bag in it.\n",
      "Step 3 - Once the water is hot enough, pour it over the tea bag.\n",
      "Step 4 - Let it sit for a bit so the tea can steep.\n",
      "Step 5 - After a few minutes, take out the tea bag.\n",
      "Step 6 - Add some sugar or milk to taste.\n",
      "Step 7 - Enjoy your delicious cup of tea!\n"
     ]
    }
   ],
   "source": [
    "result = chat(chat_prompt.format_prompt(text=text).to_messages())\n",
    "print(result.content)"
   ]
  },
  {
   "cell_type": "code",
   "execution_count": 9,
   "id": "d4ec1f7d",
   "metadata": {},
   "outputs": [
    {
     "name": "stdout",
     "output_type": "stream",
     "text": [
      "No steps provided.\n"
     ]
    }
   ],
   "source": [
    "text_without_steps = f\"\"\"\n",
    "The sun is shining brightly today, and the birds are \\\n",
    "singing. It's a beautiful day to go for a \\ \n",
    "walk in the park. The flowers are blooming, and the \\ \n",
    "trees are swaying gently in the breeze. People \\ \n",
    "are out and about, enjoying the lovely weather. \\ \n",
    "Some are having picnics, while others are playing \\ \n",
    "games or simply relaxing on the grass. It's a \\ \n",
    "perfect day to spend time outdoors and appreciate the \\ \n",
    "beauty of nature.\n",
    "\"\"\"\n",
    "\n",
    "result = chat(chat_prompt.format_prompt(text=text_without_steps).to_messages())\n",
    "print(result.content)"
   ]
  },
  {
   "cell_type": "code",
   "execution_count": 10,
   "id": "950c9e47",
   "metadata": {},
   "outputs": [
    {
     "name": "stdout",
     "output_type": "stream",
     "text": [
      "<grandparent>: Resilience is like a tree that bends with the wind but never breaks. It is the ability to bounce back from adversity and keep moving forward, even when things get tough. Just like a tree that grows stronger with each storm it weathers, resilience is a quality that can be developed and strengthened over time.\n"
     ]
    }
   ],
   "source": [
    "prompt_template = \"\"\"\n",
    "Your task is to answer in a consistent style.\n",
    "\n",
    "<child>: Teach me about patience.\n",
    "\n",
    "<grandparent>: The river that carves the deepest \\ \n",
    "valley flows from a modest spring; the \\ \n",
    "grandest symphony originates from a single note; \\ \n",
    "the most intricate tapestry begins with a solitary thread.\n",
    "\n",
    "<child>: Teach me about resilience.\n",
    "\"\"\"\n",
    "human_message_prompt = HumanMessagePromptTemplate.from_template(prompt_template)\n",
    "chat_prompt = ChatPromptTemplate.from_messages([human_message_prompt])\n",
    "\n",
    "result = chat(chat_prompt.format_prompt().to_messages())\n",
    "print(result.content)"
   ]
  },
  {
   "cell_type": "code",
   "execution_count": 11,
   "id": "b0f2ffd3",
   "metadata": {},
   "outputs": [
    {
     "name": "stdout",
     "output_type": "stream",
     "text": [
      "Resilience is the ability to bounce back from difficult situations and challenges. It's an important trait to have because life is full of ups and downs, and being able to handle setbacks and keep moving forward is key to success and happiness. Resilience can be developed through practice and experience, and it involves things like staying positive, being adaptable, and seeking support from others when needed. Remember, setbacks are a natural part of life, but with resilience, you can overcome them and come out stronger on the other side.\n"
     ]
    }
   ],
   "source": [
    "prompt_template = \"\"\"\n",
    "Your task is to answer in a consistent style.\n",
    "\n",
    "<child>: Teach me about resilience.\n",
    "\n",
    "<grandparent>:\n",
    "\"\"\"\n",
    "human_message_prompt = HumanMessagePromptTemplate.from_template(prompt_template)\n",
    "chat_prompt = ChatPromptTemplate.from_messages([human_message_prompt])\n",
    "\n",
    "result = chat(chat_prompt.format_prompt().to_messages())\n",
    "print(result.content)"
   ]
  },
  {
   "cell_type": "code",
   "execution_count": 12,
   "id": "e07ba5ac",
   "metadata": {},
   "outputs": [
    {
     "name": "stdout",
     "output_type": "stream",
     "text": [
      "Two siblings, Jack and Jill, go on a quest to fetch water from a hilltop well, but misfortune strikes as Jack trips and tumbles down the hill, with Jill following suit, yet they return home slightly battered but with their adventurous spirits undimmed.\n",
      "\n",
      "இரு சகோதரர்கள் ஜேக் மற்றும் ஜில் ஒரு மலைத்தோட்டத்தில் நீர் பெறுவதற்கு செல்லும் பயணத்திற்கு போகின்றனர், ஆனால் ஜேக் ஒரு கல் மீது விழுந்து கொண்டு மலையில் குதித்தான், ஜில் அவனை பின்னால் பிரச்சனையடைந்தாள், இருவரும் சில கடுமையான பக்கவாட்டில் வந்து வீட்டிற்கு திரும்பினர், ஆனால் அவர்களின் சார்பில் சாதனைகள் குறைவாகவும் அவர்கள் மகிழ்ச்சியுடன் பரிசரிக்கப்பட்டன. \n",
      "\n",
      "ஜேக், ஜில்\n",
      "\n",
      "{\n",
      "  \"tamil_summary\": \"இரு சகோதரர்கள் ஜேக் மற்றும் ஜில் ஒரு மலைத்தோட்டத்தில் நீர் பெறுவதற்கு செல்லும் பயணத்திற்கு போகின்றனர், ஆனால் ஜேக் ஒரு கல் மீது விழுந்து கொண்டு மலையில் குதித்தான், ஜில் அவனை பின்னால் பிரச்சனையடைந்தாள், இருவரும் சில கடுமையான பக்கவாட்டில் வந்து வீட்டிற்கு திரும்பினர், ஆனால் அவர்களின் சார்பில் சாதனைகள் குறைவாகவும் அவர்கள் மகிழ்ச்சியுடன் பரிசரிக்கப்பட்டன.\",\n",
      "  \"num_names\": 2\n",
      "}\n"
     ]
    }
   ],
   "source": [
    "text = f\"\"\"\n",
    "In a charming village, siblings Jack and Jill set out on \\ \n",
    "a quest to fetch water from a hilltop \\ \n",
    "well. As they climbed, singing joyfully, misfortune \\ \n",
    "struck—Jack tripped on a stone and tumbled \\ \n",
    "down the hill, with Jill following suit. \\ \n",
    "Though slightly battered, the pair returned home to \\ \n",
    "comforting embraces. Despite the mishap, \\ \n",
    "their adventurous spirits remained undimmed, and they \\ \n",
    "continued exploring with delight.\n",
    "\"\"\"\n",
    "\n",
    "prompt_template = f\"\"\"\n",
    "Perform the following actions: \n",
    "1 - Summarize the following text delimited by triple \\\n",
    "backticks with 1 sentence.\n",
    "2 - Translate the summary into Tamil.\n",
    "3 - List each name in the Tamil summary.\n",
    "4 - Output a json object that contains the following \\\n",
    "keys: tamil_summary, num_names.\n",
    "\n",
    "Separate your answers with line breaks.\n",
    "\n",
    "Text:\n",
    "```{text}```\n",
    "\"\"\"\n",
    "\n",
    "human_message_prompt = HumanMessagePromptTemplate.from_template(prompt_template)\n",
    "chat_prompt = ChatPromptTemplate.from_messages([human_message_prompt])\n",
    "result = chat(chat_prompt.format_prompt(text=text).to_messages())\n",
    "print(result.content)"
   ]
  },
  {
   "cell_type": "code",
   "execution_count": 13,
   "id": "e76de48a",
   "metadata": {},
   "outputs": [
    {
     "name": "stdout",
     "output_type": "stream",
     "text": [
      "The student's solution is correct.\n"
     ]
    }
   ],
   "source": [
    "prompt_template = \"\"\"\n",
    "Determine if the student's solution is correct or not.\n",
    "\n",
    "Question:\n",
    "I'm building a solar power installation and I need \\\n",
    " help working out the financials. \n",
    "- Land costs $100 / square foot\n",
    "- I can buy solar panels for $250 / square foot\n",
    "- I negotiated a contract for maintenance that will cost \\ \n",
    "me a flat $100k per year, and an additional $10 / square \\\n",
    "foot\n",
    "What is the total cost for the first year of operations \n",
    "as a function of the number of square feet.\n",
    "\n",
    "Student's Solution:\n",
    "Let x be the size of the installation in square feet.\n",
    "Costs:\n",
    "1. Land cost: 100x\n",
    "2. Solar panel cost: 250x\n",
    "3. Maintenance cost: 100,000 + 100x\n",
    "Total cost: 100x + 250x + 100,000 + 100x = 450x + 100,000\n",
    "\"\"\"\n",
    "\n",
    "human_message_prompt = HumanMessagePromptTemplate.from_template(prompt_template)\n",
    "chat_prompt = ChatPromptTemplate.from_messages([human_message_prompt])\n",
    "result = chat(chat_prompt.format_prompt(text=text).to_messages())\n",
    "print(result.content)"
   ]
  },
  {
   "cell_type": "code",
   "execution_count": 14,
   "id": "4129190e",
   "metadata": {},
   "outputs": [
    {
     "name": "stdout",
     "output_type": "stream",
     "text": [
      "Let x be the size of the installation in square feet.\n",
      "\n",
      "Costs:\n",
      "1. Land cost: 100x\n",
      "2. Solar panel cost: 250x\n",
      "3. Maintenance cost: 100,000 + 10x\n",
      "\n",
      "Total cost: 100x + 250x + 100,000 + 10x = 360x + 100,000\n",
      "\n",
      "Is the student's solution the same as actual solution just calculated:\n",
      "No\n",
      "\n",
      "Student grade:\n",
      "Incorrect\n"
     ]
    }
   ],
   "source": [
    "prompt_template = f\"\"\"\n",
    "Your task is to determine if the student's solution \\\n",
    "is correct or not.\n",
    "To solve the problem do the following:\n",
    "- First, work out your own solution to the problem. \n",
    "- Then compare your solution to the student's solution \\ \n",
    "and evaluate if the student's solution is correct or not. \n",
    "Don't decide if the student's solution is correct until \n",
    "you have done the problem yourself.\n",
    "\n",
    "Use the following format:\n",
    "Question:\n",
    "```\n",
    "question here\n",
    "```\n",
    "Student's solution:\n",
    "```\n",
    "student's solution here\n",
    "```\n",
    "Actual solution:\n",
    "```\n",
    "steps to work out the solution and your solution here\n",
    "```\n",
    "Is the student's solution the same as actual solution \\\n",
    "just calculated:\n",
    "```\n",
    "yes or no\n",
    "```\n",
    "Student grade:\n",
    "```\n",
    "correct or incorrect\n",
    "```\n",
    "\n",
    "Question:\n",
    "```\n",
    "I'm building a solar power installation and I need help \\\n",
    "working out the financials. \n",
    "- Land costs $100 / square foot\n",
    "- I can buy solar panels for $250 / square foot\n",
    "- I negotiated a contract for maintenance that will cost \\\n",
    "me a flat $100k per year, and an additional $10 / square \\\n",
    "foot\n",
    "What is the total cost for the first year of operations \\\n",
    "as a function of the number of square feet.\n",
    "``` \n",
    "Student's solution:\n",
    "```\n",
    "Let x be the size of the installation in square feet.\n",
    "Costs:\n",
    "1. Land cost: 100x\n",
    "2. Solar panel cost: 250x\n",
    "3. Maintenance cost: 100,000 + 100x\n",
    "Total cost: 100x + 250x + 100,000 + 100x = 450x + 100,000\n",
    "```\n",
    "Actual solution:\n",
    "\"\"\"\n",
    "\n",
    "human_message_prompt = HumanMessagePromptTemplate.from_template(prompt_template)\n",
    "chat_prompt = ChatPromptTemplate.from_messages([human_message_prompt])\n",
    "result = chat(chat_prompt.format_prompt(text=text).to_messages())\n",
    "print(result.content)"
   ]
  },
  {
   "cell_type": "code",
   "execution_count": 15,
   "id": "8815d16f",
   "metadata": {},
   "outputs": [
    {
     "name": "stdout",
     "output_type": "stream",
     "text": [
      "As an AI language model, I do not have access to the latest news and updates. However, I can provide you with general information about Sun Jaya News, a Tamil news channel by Sun Networks.\n",
      "\n",
      "Sun Jaya News is a 24-hour Tamil news channel launched by Sun Networks, owned by Kalanithi Maran. The channel aims to provide the latest news and updates from Tamil Nadu, India, and around the world to the Tamil-speaking audience. Sun Jaya News covers a wide range of topics, including politics, sports, entertainment, business, and more.\n",
      "\n",
      "The channel features experienced journalists and reporters who provide accurate and unbiased news coverage. Sun Jaya News also has a strong online presence, with a website and social media accounts that provide news updates and live streaming of the channel.\n",
      "\n",
      "Overall, Sun Jaya News is a reliable source of news and information for the Tamil-speaking audience, and it has quickly gained popularity since its launch.\n"
     ]
    }
   ],
   "source": [
    "prompt_template = f\"\"\"Tell me about new Sun Jaya News, a tamil news channel by Sun Networks by Kalanithi Maran.\n",
    "\"\"\"\n",
    "human_message_prompt = HumanMessagePromptTemplate.from_template(prompt_template)\n",
    "chat_prompt = ChatPromptTemplate.from_messages([human_message_prompt])\n",
    "result = chat(chat_prompt.format_prompt(text=text).to_messages())\n",
    "print(result.content)"
   ]
  },
  {
   "cell_type": "code",
   "execution_count": 16,
   "id": "b3ecae99",
   "metadata": {},
   "outputs": [],
   "source": [
    "from langchain.chains import ConversationalRetrievalChain\n",
    "from langchain.document_loaders import PyPDFLoader\n",
    "from langchain.embeddings import OpenAIEmbeddings\n",
    "from langchain.llms import OpenAI\n",
    "from langchain.memory import ConversationBufferMemory\n",
    "from langchain.text_splitter import RecursiveCharacterTextSplitter\n",
    "from langchain.vectorstores import Chroma\n",
    "\n",
    "\n",
    "def get_conversation_qa_chain(pdf_filepath, llm, embeddings):\n",
    "    loader = PyPDFLoader(pdf_filepath)\n",
    "    documents = loader.load()\n",
    "    text_splitter = RecursiveCharacterTextSplitter(chunk_size=250, chunk_overlap=20,\n",
    "                                                   length_function=lambda text: len(text.split()),\n",
    "                                                   separators=['\\n\\n', '\\n', ' ', ''])\n",
    "    document_chunks = text_splitter.split_documents(documents)\n",
    "    db = Chroma.from_documents(document_chunks, embeddings)\n",
    "    memory = ConversationBufferMemory(memory_key='chat_history', return_messages=True)\n",
    "    chain = ConversationalRetrievalChain.from_llm(llm, db.as_retriever(), memory=memory, verbose=True)\n",
    "    return chain"
   ]
  },
  {
   "cell_type": "code",
   "execution_count": 17,
   "id": "6846b556",
   "metadata": {},
   "outputs": [],
   "source": [
    "pdf_filepath = '../data/TATA_Medicare_997f212ecb.pdf'\n",
    "llm = OpenAI(temperature=0)\n",
    "embeddings = OpenAIEmbeddings()\n",
    "qa_chain = get_conversation_qa_chain(pdf_filepath, llm, embeddings)"
   ]
  },
  {
   "cell_type": "code",
   "execution_count": 18,
   "id": "52f5b287",
   "metadata": {
    "scrolled": false
   },
   "outputs": [
    {
     "name": "stdout",
     "output_type": "stream",
     "text": [
      "\n",
      "\n",
      "\u001b[1m> Entering new StuffDocumentsChain chain...\u001b[0m\n",
      "\n",
      "\n",
      "\u001b[1m> Entering new LLMChain chain...\u001b[0m\n",
      "Prompt after formatting:\n",
      "\u001b[32;1m\u001b[1;3mUse the following pieces of context to answer the question at the end. If you don't know the answer, just say that you don't know, don't try to make up an answer.\n",
      "\n",
      "General Exclusions:\n",
      "Medical Exclusions:\n",
      "       Congenital External Diseases, defects or anomalies\n",
      "       Alcoholic pancreatitis\n",
      "Non-Medical Exclusions:\n",
      "       Intentional self-injury or attempted suicide while sane or insane.\n",
      "       Any Insured Person attempting to commit a breach of law with criminal intent\n",
      "   Treatment rendered by a Medical Practitioner which is outside his discipline  \n",
      "Please refer to policy wordings for complete list of Beneﬁts and Exclusions.\n",
      "Waiting Period:\n",
      " Policy coverage starts 30 days from the ﬁrst inception of the policy (except accident).\n",
      " Any listed Conditions, Surgeries/Treatments will be covered after a waiting period of 24 months.\n",
      " Any pre-existing condition will be covered after a waiting period of 36 months.\n",
      "Tax Beneﬁt:\n",
      "The premium amount paid under this policy qualiﬁes for deduction under 80D of Income Tax Act. This \n",
      "beneﬁt is not applicable for premium amount paid towards accidental death beneﬁt if opted and for \n",
      "premium paid in cash/ or by demand draft.\n",
      "Tax beneﬁts are subject to changes in Income Tax Law.\n",
      "Claim Procedure:\n",
      " Intimation & Assistance: Please contact Us atleast 48 hours prior to an event which might give  \n",
      " rise to a claim. For any emergency situations, kindly contact Us within 24 hours of the event.\n",
      " Claim Related Information: For any claim related query, intimation of claim and submission of\n",
      "  claim related documents, You can contact Us through:\n",
      " Name: TAGIC Health Claims\n",
      " Email: healthclaimsupport@tataaig.com\n",
      " Toll Free: 1800 266 7780 or 1800 229 966 (For Senior Citizens)\n",
      " Website: www.tataaig.com\n",
      "\n",
      "Name: TAGIC Health Claims\n",
      " Email: healthclaimsupport@tataaig.com\n",
      " Toll Free: 1800 266 7780 or 1800 229 966 (For Senior Citizens)\n",
      " Website: www.tataaig.com\n",
      " Submit claim:  Tata AIG General Insurance Company Limited, 5th and 6th Floor, Imperial\n",
      "  Towers, H.No 7-1-6-617/A, GHMC No - 615,616, Ameerpet, Hyderabad –\n",
      "  500016, Telangana, Phone-040-66864900\n",
      "For list of network hospitals, please visit website.\n",
      "In case if the insured person opts for shared accommodation under the policy, but gets admitted in \n",
      "a room category higher than that, then 10% of admissible claim amount will be borne by the insured person.\n",
      "Terms and Conditions\n",
      " Minimum entry age - 91 days\n",
      " Policy Tenure Options-1/2/3 Years\n",
      " Covers upto 7 members (Self, Spouse, upto 3 dependent children and upto 2 parents/ \n",
      "parents-in-laws)\n",
      "Tata AIG Medicare UIN: TATHLIP23118V032223\n",
      "\n",
      " No person shall allow or oﬀer to allow, either directly or indirectly, as an inducement to any \n",
      "person to take out or renew or continue an insurance in respect of any kind of risk relating to \n",
      "lives or property in India, any rebate of the whole or part of the commission payable or any \n",
      "rebate of the premium shown on the policy, nor shall any person taking out or renewing or \n",
      "continuing a policy accept any rebate, except such rebate as may be allowed in accordance with \n",
      "the published prospectuses or tables of the insurer.\n",
      " Any person making default in complying with the provisions of this section shall be liable for a \n",
      "penalty which may extend to ten lakh rupees.\n",
      "Grievance Redressal Procedure:\n",
      "As per regulation 17 of IRDA of India (Protection of Policyholders’ Interests) Regulation, 2017.\n",
      "Section 64 VB of the Insurance Act, 1938:\n",
      "Commencement of risk cover under the policy is subject to receipt of premium by Tata AIG General \n",
      "Insurance Company Limited.\n",
      "24x7 Helpline\n",
      "1800 266 7780\n",
      "For Senior Citizens\n",
      "1800 229 96624x7 Claims Helpline\n",
      "1800 266 7780\n",
      "(Toll Free)Write to us\n",
      "customersupport@tataaig.com\n",
      "Disclaimer:\n",
      "Insurance is the subject matter of solicitation.\n",
      "For more details on beneﬁts, exclusions, limitations, terms & conditions, please refer sales brochure/ policy wordings \n",
      "carefully, before concluding a sale.\n",
      "Tata AIG Medicare UIN: TATHLIP23118V032223\n",
      "\n",
      " You have a period of 15 days from the date of receipt of the policy document to review the policy\n",
      "terms/conditions. In case of any policy related objections, you have the option to cancel the\n",
      "policy and premium would be refunded as per free-look regulation laid down by IRDAI.\n",
      " We may apply risk loading (max. individual loading upto 100% of premium per medical \n",
      "condition) based on individual's health status. Maximum overall risk loading shall not exceed \n",
      "150% of premium per individual.\n",
      " There will be no premium refund in case of cancellation due to non-disclosure of material facts,\n",
      "mis-representation or fraud.\n",
      " Grace period of 30 days from the policy expiry is available. Coverage is not available during the \n",
      "grace period.\n",
      " Sum insured can be enhanced only at the time of renewal subject to our underwriting guidelines\n",
      " In case you want to port your policy to Us, apply at least 45 days prior to policy renewal date and \n",
      "IRDAI portability guidelines shall apply.\n",
      " Any product revision/modiﬁcation/future withdrawal will be done with the approval of IRDAI and \n",
      "will be intimated to You at least 3 months in advance. In case of withdrawal, you have an option \n",
      "to migrate to our similar health insurance product.\n",
      "Prohibition of Rebates\n",
      "Section 41 of Insurance Act 1938 as amended by Insurance Laws (Amendment) Act, 2015\n",
      " No person shall allow or oﬀer to allow, either directly or indirectly, as an inducement to any\n",
      "\n",
      "Question: How to claim insurance for a treatment?\n",
      "Helpful Answer:\u001b[0m\n",
      "\n",
      "\u001b[1m> Finished chain.\u001b[0m\n",
      "\n",
      "\u001b[1m> Finished chain.\u001b[0m\n"
     ]
    }
   ],
   "source": [
    "result = qa_chain({'question': 'How to claim insurance for a treatment?'})"
   ]
  },
  {
   "cell_type": "code",
   "execution_count": 19,
   "id": "9a52c875",
   "metadata": {},
   "outputs": [
    {
     "name": "stdout",
     "output_type": "stream",
     "text": [
      " To claim insurance for a treatment, please contact TAGIC Health Claims through email (healthclaimsupport@tataaig.com), toll free (1800 266 7780 or 1800 229 966 for senior citizens), or website (www.tataaig.com). Submit the claim to Tata AIG General Insurance Company Limited, 5th and 6th Floor, Imperial Towers, H.No 7-1-6-617/A, GHMC No - 615,616, Ameerpet, Hyderabad – 500016, Telangana, Phone-040-66864900. For list of network hospitals, please visit the website.\n"
     ]
    }
   ],
   "source": [
    "print(result['answer'])"
   ]
  },
  {
   "cell_type": "code",
   "execution_count": null,
   "id": "d900029c",
   "metadata": {},
   "outputs": [],
   "source": []
  }
 ],
 "metadata": {
  "kernelspec": {
   "display_name": "llm-explorations",
   "language": "python",
   "name": "llm-explorations"
  },
  "language_info": {
   "codemirror_mode": {
    "name": "ipython",
    "version": 3
   },
   "file_extension": ".py",
   "mimetype": "text/x-python",
   "name": "python",
   "nbconvert_exporter": "python",
   "pygments_lexer": "ipython3",
   "version": "3.9.6"
  }
 },
 "nbformat": 4,
 "nbformat_minor": 5
}
