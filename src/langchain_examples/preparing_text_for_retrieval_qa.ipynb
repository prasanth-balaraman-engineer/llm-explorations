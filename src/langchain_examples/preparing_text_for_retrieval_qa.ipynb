{
 "cells": [
  {
   "cell_type": "code",
   "execution_count": 107,
   "metadata": {},
   "outputs": [],
   "source": [
    "!wget -r -A .html -P rtdocs https://python.langchain.com/en/latest/"
   ]
  },
  {
   "cell_type": "code",
   "execution_count": 23,
   "metadata": {},
   "outputs": [
    {
     "name": "stderr",
     "output_type": "stream",
     "text": [
      "/Users/jeevagayathri/personal/llm-explorations/venv/lib/python3.10/site-packages/langchain/document_loaders/readthedocs.py:48: GuessedAtParserWarning: No parser was explicitly specified, so I'm using the best available HTML parser for this system (\"html.parser\"). This usually isn't a problem, but if you run this code on another system, or in a different virtual environment, it may use a different parser and behave differently.\n",
      "\n",
      "The code that caused this warning is on line 48 of the file /Users/jeevagayathri/personal/llm-explorations/venv/lib/python3.10/site-packages/langchain/document_loaders/readthedocs.py. To get rid of this warning, pass the additional argument 'features=\"html.parser\"' to the BeautifulSoup constructor.\n",
      "\n",
      "  _ = BeautifulSoup(\n",
      "/Users/jeevagayathri/personal/llm-explorations/venv/lib/python3.10/site-packages/langchain/document_loaders/readthedocs.py:75: GuessedAtParserWarning: No parser was explicitly specified, so I'm using the best available HTML parser for this system (\"html.parser\"). This usually isn't a problem, but if you run this code on another system, or in a different virtual environment, it may use a different parser and behave differently.\n",
      "\n",
      "The code that caused this warning is on line 75 of the file /Users/jeevagayathri/personal/llm-explorations/venv/lib/python3.10/site-packages/langchain/document_loaders/readthedocs.py. To get rid of this warning, pass the additional argument 'features=\"html.parser\"' to the BeautifulSoup constructor.\n",
      "\n",
      "  soup = BeautifulSoup(data, **self.bs_kwargs)\n"
     ]
    },
    {
     "data": {
      "text/plain": [
       "993"
      ]
     },
     "execution_count": 23,
     "metadata": {},
     "output_type": "execute_result"
    }
   ],
   "source": [
    "from langchain.document_loaders import ReadTheDocsLoader\n",
    "\n",
    "loader = ReadTheDocsLoader('rtdocs')\n",
    "docs = loader.load()\n",
    "len(docs)"
   ]
  },
  {
   "cell_type": "code",
   "execution_count": 33,
   "metadata": {},
   "outputs": [
    {
     "data": {
      "text/plain": [
       "Document(page_content='.rst\\n.pdf\\nWelcome to LangChain\\n Contents \\nGetting Started\\nModules\\nUse Cases\\nReference Docs\\nEcosystem\\nAdditional Resources\\nWelcome to LangChain#\\nLangChain is a framework for developing applications powered by language models. We believe that the most powerful and differentiated applications will not only call out to a language model, but will also be:\\nData-aware: connect a language model to other sources of data\\nAgentic: allow a language model to interact with its environment\\nThe LangChain framework is designed around these principles.\\nThis is the Python specific portion of the documentation. For a purely conceptual guide to LangChain, see here. For the JavaScript documentation, see here.\\nGetting Started#\\nHow to get started using LangChain to create an Language Model application.\\nQuickstart Guide\\nConcepts and terminology.\\nConcepts and terminology\\nTutorials created by community experts and presented on YouTube.\\nTutorials\\nModules#\\nThese modules are the core abstractions which we view as the building blocks of any LLM-powered application.\\nFor each module LangChain provides standard, extendable interfaces. LangChain also provides external integrations and even end-to-end implementations for off-the-shelf use.\\nThe docs for each module contain quickstart examples, how-to guides, reference docs, and conceptual guides.\\nThe modules are (from least to most complex):\\nModels: Supported model types and integrations.\\nPrompts: Prompt management, optimization, and serialization.\\nMemory: Memory refers to state that is persisted between calls of a chain/agent.\\nIndexes: Language models become much more powerful when combined with application-specific data - this module contains interfaces and integrations for loading, querying and updating external data.\\nChains: Chains are structured sequences of calls (to an LLM or to a different utility).\\nAgents: An agent is a Chain in which an LLM, given a high-level directive and a set of tools, repeatedly decides an action, executes the action and observes the outcome until the high-level directive is complete.\\nCallbacks: Callbacks let you log and stream the intermediate steps of any chain, making it easy to observe, debug, and evaluate the internals of an application.\\nUse Cases#\\nBest practices and built-in implementations for common LangChain use cases:\\nAutonomous Agents: Autonomous agents are long-running agents that take many steps in an attempt to accomplish an objective. Examples include AutoGPT and BabyAGI.\\nAgent Simulations: Putting agents in a sandbox and observing how they interact with each other and react to events can be an effective way to evaluate their long-range reasoning and planning abilities.\\nPersonal Assistants: One of the primary LangChain use cases. Personal assistants need to take actions, remember interactions, and have knowledge about your data.\\nQuestion Answering: Another common LangChain use case. Answering questions over specific documents, only utilizing the information in those documents to construct an answer.\\nChatbots: Language models love to chat, making this a very natural use of them.\\nQuerying Tabular Data: Recommended reading if you want to use language models to query structured data (CSVs, SQL, dataframes, etc).\\nCode Understanding: Recommended reading if you want to use language models to analyze code.\\nInteracting with APIs: Enabling language models to interact with APIs is extremely powerful. It gives them access to up-to-date information and allows them to take actions.\\nExtraction: Extract structured information from text.\\nSummarization: Compressing longer documents. A type of Data-Augmented Generation.\\nEvaluation: Generative models are hard to evaluate with traditional metrics. One promising approach is to use language models themselves to do the evaluation.\\nReference Docs#\\nFull documentation on all methods, classes, installation methods, and integration setups for LangChain.\\nLangChain Installation\\nReference Documentation\\nEcosystem#\\nLangChain integrates a lot of different LLMs, systems, and products.\\nFrom the other side, many systems and products depend on LangChain.\\nIt creates a vibrant and thriving ecosystem.\\nIntegrations: Guides for how other products can be used with LangChain.\\nDependents: List of repositories that use LangChain.\\nDeployments: A collection of instructions, code snippets, and template repositories for deploying LangChain apps.\\nAdditional Resources#\\nAdditional resources we think may be useful as you develop your application!\\nLangChainHub: The LangChainHub is a place to share and explore other prompts, chains, and agents.\\nGallery: A collection of great projects that use Langchain, compiled by the folks at Kyrolabs. Useful for finding inspiration and example implementations.\\nTracing: A guide on using tracing in LangChain to visualize the execution of chains and agents.\\nModel Laboratory: Experimenting with different prompts, models, and chains is a big part of developing the best possible application. The ModelLaboratory makes it easy to do so.\\nDiscord: Join us on our Discord to discuss all things LangChain!\\nYouTube: A collection of the LangChain tutorials and videos.\\nProduction Support: As you move your LangChains into production, we’d love to offer more comprehensive support. Please fill out this form and we’ll set up a dedicated support Slack channel.\\nnext\\nQuickstart Guide\\n Contents\\n  \\nGetting Started\\nModules\\nUse Cases\\nReference Docs\\nEcosystem\\nAdditional Resources\\nBy Harrison Chase\\n    \\n      © Copyright 2023, Harrison Chase.\\n      \\n  Last updated on Jun 05, 2023.\\n  ', metadata={'source': 'rtdocs/python.langchain.com/en/latest/index.html'})"
      ]
     },
     "execution_count": 33,
     "metadata": {},
     "output_type": "execute_result"
    }
   ],
   "source": [
    "docs[0]"
   ]
  },
  {
   "cell_type": "code",
   "execution_count": 34,
   "metadata": {},
   "outputs": [
    {
     "name": "stdout",
     "output_type": "stream",
     "text": [
      ".rst\n",
      ".pdf\n",
      "Welcome to LangChain\n",
      " Contents \n",
      "Getting Started\n",
      "Modules\n",
      "Use Cases\n",
      "Reference Docs\n",
      "Ecosystem\n",
      "Additional Resources\n",
      "Welcome to LangChain#\n",
      "LangChain is a framework for developing applications powered by language models. We believe that the most powerful and differentiated applications will not only call out to a language model, but will also be:\n",
      "Data-aware: connect a language model to other sources of data\n",
      "Agentic: allow a language model to interact with its environment\n",
      "The LangChain framework is designed around these principles.\n",
      "This is the Python specific portion of the documentation. For a purely conceptual guide to LangChain, see here. For the JavaScript documentation, see here.\n",
      "Getting Started#\n",
      "How to get started using LangChain to create an Language Model application.\n",
      "Quickstart Guide\n",
      "Concepts and terminology.\n",
      "Concepts and terminology\n",
      "Tutorials created by community experts and presented on YouTube.\n",
      "Tutorials\n",
      "Modules#\n",
      "These modules are the core abstractions which we view as the building blocks of any LLM-powered application.\n",
      "For each module LangChain provides standard, extendable interfaces. LangChain also provides external integrations and even end-to-end implementations for off-the-shelf use.\n",
      "The docs for each module contain quickstart examples, how-to guides, reference docs, and conceptual guides.\n",
      "The modules are (from least to most complex):\n",
      "Models: Supported model types and integrations.\n",
      "Prompts: Prompt management, optimization, and serialization.\n",
      "Memory: Memory refers to state that is persisted between calls of a chain/agent.\n",
      "Indexes: Language models become much more powerful when combined with application-specific data - this module contains interfaces and integrations for loading, querying and updating external data.\n",
      "Chains: Chains are structured sequences of calls (to an LLM or to a different utility).\n",
      "Agents: An agent is a Chain in which an LLM, given a high-level directive and a set of tools, repeatedly decides an action, executes the action and observes the outcome until the high-level directive is complete.\n",
      "Callbacks: Callbacks let you log and stream the intermediate steps of any chain, making it easy to observe, debug, and evaluate the internals of an application.\n",
      "Use Cases#\n",
      "Best practices and built-in implementations for common LangChain use cases:\n",
      "Autonomous Agents: Autonomous agents are long-running agents that take many steps in an attempt to accomplish an objective. Examples include AutoGPT and BabyAGI.\n",
      "Agent Simulations: Putting agents in a sandbox and observing how they interact with each other and react to events can be an effective way to evaluate their long-range reasoning and planning abilities.\n",
      "Personal Assistants: One of the primary LangChain use cases. Personal assistants need to take actions, remember interactions, and have knowledge about your data.\n",
      "Question Answering: Another common LangChain use case. Answering questions over specific documents, only utilizing the information in those documents to construct an answer.\n",
      "Chatbots: Language models love to chat, making this a very natural use of them.\n",
      "Querying Tabular Data: Recommended reading if you want to use language models to query structured data (CSVs, SQL, dataframes, etc).\n",
      "Code Understanding: Recommended reading if you want to use language models to analyze code.\n",
      "Interacting with APIs: Enabling language models to interact with APIs is extremely powerful. It gives them access to up-to-date information and allows them to take actions.\n",
      "Extraction: Extract structured information from text.\n",
      "Summarization: Compressing longer documents. A type of Data-Augmented Generation.\n",
      "Evaluation: Generative models are hard to evaluate with traditional metrics. One promising approach is to use language models themselves to do the evaluation.\n",
      "Reference Docs#\n",
      "Full documentation on all methods, classes, installation methods, and integration setups for LangChain.\n",
      "LangChain Installation\n",
      "Reference Documentation\n",
      "Ecosystem#\n",
      "LangChain integrates a lot of different LLMs, systems, and products.\n",
      "From the other side, many systems and products depend on LangChain.\n",
      "It creates a vibrant and thriving ecosystem.\n",
      "Integrations: Guides for how other products can be used with LangChain.\n",
      "Dependents: List of repositories that use LangChain.\n",
      "Deployments: A collection of instructions, code snippets, and template repositories for deploying LangChain apps.\n",
      "Additional Resources#\n",
      "Additional resources we think may be useful as you develop your application!\n",
      "LangChainHub: The LangChainHub is a place to share and explore other prompts, chains, and agents.\n",
      "Gallery: A collection of great projects that use Langchain, compiled by the folks at Kyrolabs. Useful for finding inspiration and example implementations.\n",
      "Tracing: A guide on using tracing in LangChain to visualize the execution of chains and agents.\n",
      "Model Laboratory: Experimenting with different prompts, models, and chains is a big part of developing the best possible application. The ModelLaboratory makes it easy to do so.\n",
      "Discord: Join us on our Discord to discuss all things LangChain!\n",
      "YouTube: A collection of the LangChain tutorials and videos.\n",
      "Production Support: As you move your LangChains into production, we’d love to offer more comprehensive support. Please fill out this form and we’ll set up a dedicated support Slack channel.\n",
      "next\n",
      "Quickstart Guide\n",
      " Contents\n",
      "  \n",
      "Getting Started\n",
      "Modules\n",
      "Use Cases\n",
      "Reference Docs\n",
      "Ecosystem\n",
      "Additional Resources\n",
      "By Harrison Chase\n",
      "    \n",
      "      © Copyright 2023, Harrison Chase.\n",
      "      \n",
      "  Last updated on Jun 05, 2023.\n",
      "  \n"
     ]
    }
   ],
   "source": [
    "print(docs[0].page_content)"
   ]
  },
  {
   "cell_type": "code",
   "execution_count": 36,
   "metadata": {},
   "outputs": [
    {
     "data": {
      "text/plain": [
       "'https://python.langchain.com/en/latest/index.html'"
      ]
     },
     "execution_count": 36,
     "metadata": {},
     "output_type": "execute_result"
    }
   ],
   "source": [
    "docs[0].metadata[\"source\"].replace(\"rtdocs/\", \"https://\")"
   ]
  },
  {
   "cell_type": "code",
   "execution_count": 45,
   "metadata": {},
   "outputs": [],
   "source": [
    "import tiktoken\n",
    "\n",
    "encoding_name = tiktoken.encoding_for_model('gpt-3.5-turbo').name\n",
    "tokenizer = tiktoken.get_encoding(encoding_name=encoding_name)\n",
    "\n",
    "def tiktoken_len(text):\n",
    "    tokens = tokenizer.encode(text, disallowed_special=())\n",
    "    return len(tokens)"
   ]
  },
  {
   "cell_type": "code",
   "execution_count": 46,
   "metadata": {},
   "outputs": [],
   "source": [
    "token_counts = [tiktoken_len(doc.page_content) for doc in docs]"
   ]
  },
  {
   "cell_type": "code",
   "execution_count": 49,
   "metadata": {},
   "outputs": [
    {
     "name": "stdout",
     "output_type": "stream",
     "text": [
      "Min: 45\n",
      "Avg: 1342\n",
      "Max: 59470\n"
     ]
    }
   ],
   "source": [
    "print(f\"Min: {min(token_counts)}\")\n",
    "print(f\"Avg: {int(sum(token_counts) / len(token_counts))}\")\n",
    "print(f\"Max: {max(token_counts)}\")"
   ]
  },
  {
   "cell_type": "code",
   "execution_count": 50,
   "metadata": {},
   "outputs": [
    {
     "data": {
      "image/png": "[encoded data removed]",
      "text/plain": [
       "<Figure size 1200x600 with 1 Axes>"
      ]
     },
     "metadata": {},
     "output_type": "display_data"
    }
   ],
   "source": [
    "import matplotlib.pyplot as plt\n",
    "import seaborn as sns\n",
    "\n",
    "# set style and color palette for the plot\n",
    "sns.set_style(\"whitegrid\")\n",
    "sns.set_palette(\"muted\")\n",
    "\n",
    "# create histogram\n",
    "plt.figure(figsize=(12, 6))\n",
    "sns.histplot(token_counts, kde=False, bins=50)\n",
    "\n",
    "# customize the plot info\n",
    "plt.title(\"Token Counts Histogram\")\n",
    "plt.xlabel(\"Token Count\")\n",
    "plt.ylabel(\"Frequency\")\n",
    "\n",
    "plt.show()"
   ]
  },
  {
   "cell_type": "code",
   "execution_count": 51,
   "metadata": {},
   "outputs": [],
   "source": [
    "from langchain.text_splitter import RecursiveCharacterTextSplitter\n",
    "\n",
    "text_splitter = RecursiveCharacterTextSplitter(\n",
    "    chunk_size=400,\n",
    "    chunk_overlap=20,\n",
    "    length_function=tiktoken_len,\n",
    "    separators=[\"\\n\\n\", \"\\n\", \" \", \"\"]\n",
    ")"
   ]
  },
  {
   "cell_type": "code",
   "execution_count": 52,
   "metadata": {},
   "outputs": [
    {
     "data": {
      "text/plain": [
       "3"
      ]
     },
     "execution_count": 52,
     "metadata": {},
     "output_type": "execute_result"
    }
   ],
   "source": [
    "chunks = text_splitter.split_text(docs[0].page_content)\n",
    "len(chunks)"
   ]
  },
  {
   "cell_type": "code",
   "execution_count": 56,
   "metadata": {},
   "outputs": [
    {
     "data": {
      "text/plain": [
       "(356, 374, 357)"
      ]
     },
     "execution_count": 56,
     "metadata": {},
     "output_type": "execute_result"
    }
   ],
   "source": [
    "tiktoken_len(chunks[0]), tiktoken_len(chunks[1]), tiktoken_len(chunks[2])"
   ]
  },
  {
   "cell_type": "code",
   "execution_count": 60,
   "metadata": {},
   "outputs": [
    {
     "data": {
      "text/plain": [
       "['.rst\\n.pdf\\nWelcome to LangChain\\n Contents \\nGetting Started\\nModules\\nUse Cases\\nReference Docs\\nEcosystem\\nAdditional Resources\\nWelcome to LangChain#\\nLangChain is a framework for developing applications powered by language models. We believe that the most powerful and differentiated applications will not only call out to a language model, but will also be:\\nData-aware: connect a language model to other sources of data\\nAgentic: allow a language model to interact with its environment\\nThe LangChain framework is designed around these principles.\\nThis is the Python specific portion of the documentation. For a purely conceptual guide to LangChain, see here. For the JavaScript documentation, see here.\\nGetting Started#\\nHow to get started using LangChain to create an Language Model application.\\nQuickstart Guide\\nConcepts and terminology.\\nConcepts and terminology\\nTutorials created by community experts and presented on YouTube.\\nTutorials\\nModules#\\nThese modules are the core abstractions which we view as the building blocks of any LLM-powered application.\\nFor each module LangChain provides standard, extendable interfaces. LangChain also provides external integrations and even end-to-end implementations for off-the-shelf use.\\nThe docs for each module contain quickstart examples, how-to guides, reference docs, and conceptual guides.\\nThe modules are (from least to most complex):\\nModels: Supported model types and integrations.\\nPrompts: Prompt management, optimization, and serialization.\\nMemory: Memory refers to state that is persisted between calls of a chain/agent.\\nIndexes: Language models become much more powerful when combined with application-specific data - this module contains interfaces and integrations for loading, querying and updating external data.\\nChains: Chains are structured sequences of calls (to an LLM or to a different utility).', 'Agents: An agent is a Chain in which an LLM, given a high-level directive and a set of tools, repeatedly decides an action, executes the action and observes the outcome until the high-level directive is complete.\\nCallbacks: Callbacks let you log and stream the intermediate steps of any chain, making it easy to observe, debug, and evaluate the internals of an application.\\nUse Cases#\\nBest practices and built-in implementations for common LangChain use cases:\\nAutonomous Agents: Autonomous agents are long-running agents that take many steps in an attempt to accomplish an objective. Examples include AutoGPT and BabyAGI.\\nAgent Simulations: Putting agents in a sandbox and observing how they interact with each other and react to events can be an effective way to evaluate their long-range reasoning and planning abilities.\\nPersonal Assistants: One of the primary LangChain use cases. Personal assistants need to take actions, remember interactions, and have knowledge about your data.\\nQuestion Answering: Another common LangChain use case. Answering questions over specific documents, only utilizing the information in those documents to construct an answer.\\nChatbots: Language models love to chat, making this a very natural use of them.\\nQuerying Tabular Data: Recommended reading if you want to use language models to query structured data (CSVs, SQL, dataframes, etc).\\nCode Understanding: Recommended reading if you want to use language models to analyze code.\\nInteracting with APIs: Enabling language models to interact with APIs is extremely powerful. It gives them access to up-to-date information and allows them to take actions.\\nExtraction: Extract structured information from text.\\nSummarization: Compressing longer documents. A type of Data-Augmented Generation.\\nEvaluation: Generative models are hard to evaluate with traditional metrics. One promising approach is to use language models themselves to do the evaluation.\\nReference Docs#', 'Reference Docs#\\nFull documentation on all methods, classes, installation methods, and integration setups for LangChain.\\nLangChain Installation\\nReference Documentation\\nEcosystem#\\nLangChain integrates a lot of different LLMs, systems, and products.\\nFrom the other side, many systems and products depend on LangChain.\\nIt creates a vibrant and thriving ecosystem.\\nIntegrations: Guides for how other products can be used with LangChain.\\nDependents: List of repositories that use LangChain.\\nDeployments: A collection of instructions, code snippets, and template repositories for deploying LangChain apps.\\nAdditional Resources#\\nAdditional resources we think may be useful as you develop your application!\\nLangChainHub: The LangChainHub is a place to share and explore other prompts, chains, and agents.\\nGallery: A collection of great projects that use Langchain, compiled by the folks at Kyrolabs. Useful for finding inspiration and example implementations.\\nTracing: A guide on using tracing in LangChain to visualize the execution of chains and agents.\\nModel Laboratory: Experimenting with different prompts, models, and chains is a big part of developing the best possible application. The ModelLaboratory makes it easy to do so.\\nDiscord: Join us on our Discord to discuss all things LangChain!\\nYouTube: A collection of the LangChain tutorials and videos.\\nProduction Support: As you move your LangChains into production, we’d love to offer more comprehensive support. Please fill out this form and we’ll set up a dedicated support Slack channel.\\nnext\\nQuickstart Guide\\n Contents\\n  \\nGetting Started\\nModules\\nUse Cases\\nReference Docs\\nEcosystem\\nAdditional Resources\\nBy Harrison Chase\\n    \\n      © Copyright 2023, Harrison Chase.\\n      \\n  Last updated on Jun 05, 2023.']"
      ]
     },
     "execution_count": 60,
     "metadata": {},
     "output_type": "execute_result"
    }
   ],
   "source": [
    "chunks"
   ]
  },
  {
   "cell_type": "code",
   "execution_count": 72,
   "metadata": {},
   "outputs": [
    {
     "name": "stdout",
     "output_type": "stream",
     "text": [
      "https://python.langchain.com/en/latest/index.html\n",
      "39df1f03071c\n"
     ]
    }
   ],
   "source": [
    "import hashlib\n",
    "md5 = hashlib.md5()\n",
    "\n",
    "url = docs[0].metadata[\"source\"].replace(\"rtdocs/\", \"https://\")\n",
    "print(url)\n",
    "\n",
    "md5.update(url.encode(\"utf-8\"))\n",
    "uid = md5.hexdigest()[:12]\n",
    "print(uid)"
   ]
  },
  {
   "cell_type": "code",
   "execution_count": 91,
   "metadata": {},
   "outputs": [
    {
     "name": "stdout",
     "output_type": "stream",
     "text": [
      "[{'id': '39df1f03071c-0',\n",
      "  'source': 'https://python.langchain.com/en/latest/index.html',\n",
      "  'text': '.rst\\n.pdf\\n'},\n",
      " {'id': '39df1f03071c-1',\n",
      "  'source': 'https://python.langchain.com/en/latest/index.html',\n",
      "  'text': 'Agents: An'},\n",
      " {'id': '39df1f03071c-2',\n",
      "  'source': 'https://python.langchain.com/en/latest/index.html',\n",
      "  'text': 'Reference '}]\n"
     ]
    }
   ],
   "source": [
    "from pprint import pprint\n",
    "\n",
    "data = [\n",
    "    {\n",
    "        \"id\": f\"{uid}-{index}\",\n",
    "        \"text\": chunk[:10], #chunk,\n",
    "        \"source\": docs[0].metadata[\"source\"].replace(\"rtdocs/\", \"https://\")\n",
    "    }\n",
    "    for index, chunk in enumerate(chunks)\n",
    "]\n",
    "pprint(data)"
   ]
  },
  {
   "cell_type": "code",
   "execution_count": 92,
   "metadata": {},
   "outputs": [
    {
     "data": {
      "text/plain": [
       "993"
      ]
     },
     "execution_count": 92,
     "metadata": {},
     "output_type": "execute_result"
    }
   ],
   "source": [
    "len(docs)"
   ]
  },
  {
   "cell_type": "code",
   "execution_count": 95,
   "metadata": {},
   "outputs": [
    {
     "name": "stderr",
     "output_type": "stream",
     "text": [
      "100%|██████████| 993/993 [00:02<00:00, 333.43it/s]\n"
     ]
    },
    {
     "data": {
      "text/plain": [
       "4333"
      ]
     },
     "execution_count": 95,
     "metadata": {},
     "output_type": "execute_result"
    }
   ],
   "source": [
    "from tqdm.auto import tqdm\n",
    "\n",
    "documents = []\n",
    "\n",
    "for doc in tqdm(docs):\n",
    "    url = doc.metadata[\"source\"].replace(\"rtdocs/\", \"https://\")\n",
    "    md5.update(url.encode(\"utf-8\"))\n",
    "    uid = md5.hexdigest()[:12]\n",
    "    chunks = text_splitter.split_text(doc.page_content)\n",
    "    for index, chunk in enumerate(chunks):\n",
    "        documents.append({\n",
    "            \"id\": f\"{uid}-{index}\",\n",
    "            \"source\": url,\n",
    "            \"text\": chunk,\n",
    "        })\n",
    "\n",
    "len(documents)"
   ]
  },
  {
   "cell_type": "code",
   "execution_count": 96,
   "metadata": {},
   "outputs": [
    {
     "data": {
      "text/plain": [
       "{'id': '3091316777ae-0', 'source': 'https://python.langchain.com/en/latest/index.html', 'text': '.rst\\n.pdf\\nWelcome to LangChain\\n Contents \\nGetting Started\\nModules\\nUse Cases\\nReference Docs\\nEcosystem\\nAdditional Resources\\nWelcome to LangChain#\\nLangChain is a framework for developing applications powered by language models. We believe that the most powerful and differentiated applications will not only call out to a language model, but will also be:\\nData-aware: connect a language model to other sources of data\\nAgentic: allow a language model to interact with its environment\\nThe LangChain framework is designed around these principles.\\nThis is the Python specific portion of the documentation. For a purely conceptual guide to LangChain, see here. For the JavaScript documentation, see here.\\nGetting Started#\\nHow to get started using LangChain to create an Language Model application.\\nQuickstart Guide\\nConcepts and terminology.\\nConcepts and terminology\\nTutorials created by community experts and presented on YouTube.\\nTutorials\\nModules#\\nThese modules are the core abstractions which we view as the building blocks of any LLM-powered application.\\nFor each module LangChain provides standard, extendable interfaces. LangChain also provides external integrations and even end-to-end implementations for off-the-shelf use.\\nThe docs for each module contain quickstart examples, how-to guides, reference docs, and conceptual guides.\\nThe modules are (from least to most complex):\\nModels: Supported model types and integrations.\\nPrompts: Prompt management, optimization, and serialization.\\nMemory: Memory refers to state that is persisted between calls of a chain/agent.\\nIndexes: Language models become much more powerful when combined with application-specific data - this module contains interfaces and integrations for loading, querying and updating external data.\\nChains: Chains are structured sequences of calls (to an LLM or to a different utility).'}"
      ]
     },
     "execution_count": 96,
     "metadata": {},
     "output_type": "execute_result"
    }
   ],
   "source": [
    "documents[0]"
   ]
  },
  {
   "cell_type": "code",
   "execution_count": 98,
   "metadata": {},
   "outputs": [],
   "source": [
    "import json\n",
    "\n",
    "with open(\"train.jsonl\", \"w\") as f:\n",
    "    for doc in documents:\n",
    "        f.write(json.dumps(doc) + \"\\n\")"
   ]
  },
  {
   "cell_type": "code",
   "execution_count": 100,
   "metadata": {},
   "outputs": [
    {
     "data": {
      "text/plain": [
       "4333"
      ]
     },
     "execution_count": 100,
     "metadata": {},
     "output_type": "execute_result"
    }
   ],
   "source": [
    "documents = []\n",
    "\n",
    "with open(\"train.jsonl\", \"r\") as f:\n",
    "    for line in f:\n",
    "        documents.append(json.loads(line))\n",
    "\n",
    "len(documents)"
   ]
  },
  {
   "cell_type": "code",
   "execution_count": 105,
   "metadata": {},
   "outputs": [
    {
     "name": "stderr",
     "output_type": "stream",
     "text": [
      "Found cached dataset json (/Users/jeevagayathri/.cache/huggingface/datasets/prasanth-balaraman___json/prasanth-balaraman--langchain-docs-2e96d3e9fcb96e50/0.0.0/e347ab1c932092252e717ff3f949105a4dd28b27e842dd53157d2f72e276c2e4)\n",
      "100%|██████████| 1/1 [00:00<00:00, 492.12it/s]\n"
     ]
    },
    {
     "data": {
      "text/plain": [
       "DatasetDict({\n",
       "    train: Dataset({\n",
       "        features: ['id', 'source', 'text'],\n",
       "        num_rows: 4333\n",
       "    })\n",
       "})"
      ]
     },
     "execution_count": 105,
     "metadata": {},
     "output_type": "execute_result"
    }
   ],
   "source": [
    "from datasets import load_dataset\n",
    "\n",
    "documents = load_dataset('prasanth-balaraman/langchain-docs')\n",
    "documents"
   ]
  },
  {
   "cell_type": "code",
   "execution_count": 104,
   "metadata": {},
   "outputs": [
    {
     "data": {
      "text/plain": [
       "DatasetDict({\n",
       "    train: Dataset({\n",
       "        features: ['id', 'source', 'text'],\n",
       "        num_rows: 4333\n",
       "    })\n",
       "})"
      ]
     },
     "execution_count": 104,
     "metadata": {},
     "output_type": "execute_result"
    }
   ],
   "source": []
  },
  {
   "cell_type": "code",
   "execution_count": null,
   "metadata": {},
   "outputs": [],
   "source": []
  }
 ],
 "metadata": {
  "kernelspec": {
   "display_name": "venv",
   "language": "python",
   "name": "python3"
  },
  "language_info": {
   "codemirror_mode": {
    "name": "ipython",
    "version": 3
   },
   "file_extension": ".py",
   "mimetype": "text/x-python",
   "name": "python",
   "nbconvert_exporter": "python",
   "pygments_lexer": "ipython3",
   "version": "3.10.4"
  },
  "orig_nbformat": 4
 },
 "nbformat": 4,
 "nbformat_minor": 2
}
